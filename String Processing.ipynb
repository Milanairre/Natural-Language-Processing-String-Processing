{
 "cells": [
  {
   "cell_type": "markdown",
   "metadata": {},
   "source": [
    "# String Processing"
   ]
  },
  {
   "cell_type": "markdown",
   "metadata": {},
   "source": [
    "Strings are sequence of characters & \n",
    "Strings are immutable\n"
   ]
  },
  {
   "cell_type": "code",
   "execution_count": 2,
   "metadata": {},
   "outputs": [
    {
     "name": "stdout",
     "output_type": "stream",
     "text": [
      "chickenman\n"
     ]
    }
   ],
   "source": [
    "#you can add strings\n",
    "\n",
    "a=\"chicken\"+\"man\"\n",
    "print(a)"
   ]
  },
  {
   "cell_type": "code",
   "execution_count": 4,
   "metadata": {},
   "outputs": [
    {
     "name": "stdout",
     "output_type": "stream",
     "text": [
      "h\n",
      "ickenman\n",
      "ickenma\n"
     ]
    }
   ],
   "source": [
    "#String is a sequnce of characters starting with 0\n",
    "print(a[1])\n",
    "print(a[2:])\n",
    "print(a[2:-1])"
   ]
  },
  {
   "cell_type": "code",
   "execution_count": 8,
   "metadata": {},
   "outputs": [
    {
     "name": "stdout",
     "output_type": "stream",
     "text": [
      "True\n",
      "False\n",
      "False\n",
      "True\n"
     ]
    }
   ],
   "source": [
    "#you can check is one string is in another string\n",
    "\n",
    "print(\"hi\" in a)\n",
    "print(\"zi\" in a)\n",
    "print(\"HI\" in a)\n",
    "print(\"HI\".lower() in a)"
   ]
  },
  {
   "cell_type": "code",
   "execution_count": 13,
   "metadata": {},
   "outputs": [
    {
     "name": "stdout",
     "output_type": "stream",
     "text": [
      "True\n",
      "True\n"
     ]
    }
   ],
   "source": [
    "print(a.startswith(\"ch\"))\n",
    "print(a.endswith(\"an\"))"
   ]
  },
  {
   "cell_type": "code",
   "execution_count": 14,
   "metadata": {},
   "outputs": [
    {
     "name": "stdout",
     "output_type": "stream",
     "text": [
      "chickenman\n",
      "c\n"
     ]
    }
   ],
   "source": [
    "#strings cannot be changed, they are immutable\n",
    "print(a)\n",
    "print(a[3])\n",
    "\n"
   ]
  },
  {
   "cell_type": "code",
   "execution_count": 15,
   "metadata": {},
   "outputs": [
    {
     "ename": "TypeError",
     "evalue": "'str' object does not support item assignment",
     "output_type": "error",
     "traceback": [
      "\u001b[1;31m---------------------------------------------------------------------------\u001b[0m",
      "\u001b[1;31mTypeError\u001b[0m                                 Traceback (most recent call last)",
      "\u001b[1;32m<ipython-input-15-c6788fb66637>\u001b[0m in \u001b[0;36m<module>\u001b[1;34m()\u001b[0m\n\u001b[0;32m      1\u001b[0m \u001b[1;31m#cannot assign a new variable to a string\u001b[0m\u001b[1;33m\u001b[0m\u001b[1;33m\u001b[0m\u001b[0m\n\u001b[1;32m----> 2\u001b[1;33m \u001b[0ma\u001b[0m\u001b[1;33m[\u001b[0m\u001b[1;36m3\u001b[0m\u001b[1;33m]\u001b[0m\u001b[1;33m=\u001b[0m\u001b[1;34m'X'\u001b[0m\u001b[1;33m\u001b[0m\u001b[0m\n\u001b[0m",
      "\u001b[1;31mTypeError\u001b[0m: 'str' object does not support item assignment"
     ]
    }
   ],
   "source": [
    "#cannot assign a new variable to a string\n",
    "a[3]='X'"
   ]
  },
  {
   "cell_type": "code",
   "execution_count": 19,
   "metadata": {},
   "outputs": [
    {
     "name": "stdout",
     "output_type": "stream",
     "text": [
      "chiXkenman\n",
      "chickenman\n"
     ]
    }
   ],
   "source": [
    "#if you want to change the part of the string, use +\n",
    "new_string= a[:3] + 'X' + a[4:]\n",
    "print(new_string)\n",
    "print(a)"
   ]
  },
  {
   "cell_type": "code",
   "execution_count": 27,
   "metadata": {},
   "outputs": [
    {
     "name": "stdout",
     "output_type": "stream",
     "text": [
      "['I', 'love', 'to', 'drive', 'cars']\n"
     ]
    }
   ],
   "source": [
    "#you can split s tring based on a character (tokenization)\n",
    "#strips the text into list data type\n",
    "word_list=\"I love to drive cars\".split(' ')\n",
    "print(word_list)\n",
    "\n",
    "# you see a period at 'cars'which we will see later how to remove"
   ]
  },
  {
   "cell_type": "code",
   "execution_count": 36,
   "metadata": {},
   "outputs": [
    {
     "name": "stdout",
     "output_type": "stream",
     "text": [
      "Hi there.\n",
      "\n",
      "next line\n",
      "Hi there.\n",
      "next Line\n"
     ]
    }
   ],
   "source": [
    "#you can strip off line breaks('\\n')\n",
    "return_at_end=\"Hi there.\\n\" \n",
    "print(return_at_end)\n",
    "print(\"next line\")\n",
    "print(return_at_end.strip())\n",
    "print(\"next Line\")"
   ]
  },
  {
   "cell_type": "code",
   "execution_count": 39,
   "metadata": {},
   "outputs": [
    {
     "name": "stdout",
     "output_type": "stream",
     "text": [
      "i enjoy burgers\n"
     ]
    }
   ],
   "source": [
    "#you can replace characters in a string\n",
    "New_string = \"i love burgers\".replace(\"love\", \"enjoy\")\n",
    "print(New_string)"
   ]
  },
  {
   "cell_type": "code",
   "execution_count": 42,
   "metadata": {},
   "outputs": [
    {
     "name": "stdout",
     "output_type": "stream",
     "text": [
      "milan milan milan milan\n"
     ]
    }
   ],
   "source": [
    "#you can have strings in a multiple ways like below\n",
    "a='milan'\n",
    "b=\"milan\"\n",
    "c='''milan'''\n",
    "d=\"\"\"milan\"\"\"\n",
    "\n",
    "print(a,b,c,d)"
   ]
  },
  {
   "cell_type": "code",
   "execution_count": 45,
   "metadata": {},
   "outputs": [
    {
     "ename": "SyntaxError",
     "evalue": "invalid syntax (<ipython-input-45-f42d2f6b49f7>, line 2)",
     "output_type": "error",
     "traceback": [
      "\u001b[1;36m  File \u001b[1;32m\"<ipython-input-45-f42d2f6b49f7>\"\u001b[1;36m, line \u001b[1;32m2\u001b[0m\n\u001b[1;33m    print('i can't believe it.')\u001b[0m\n\u001b[1;37m                 ^\u001b[0m\n\u001b[1;31mSyntaxError\u001b[0m\u001b[1;31m:\u001b[0m invalid syntax\n"
     ]
    }
   ],
   "source": [
    "#need to escape as the parsers is confusedand the color is chaning\n",
    "print('i can't believe it.')"
   ]
  },
  {
   "cell_type": "code",
   "execution_count": null,
   "metadata": {},
   "outputs": [
    {
     "name": "stdout",
     "output_type": "stream",
     "text": [
      "i can't believe it\n",
      "i can't believe it\n"
     ]
    }
   ],
   "source": [
    "# can escape or put it inside other king\n",
    "print(\"i can't believe it\")\n",
    "#OR\n",
    "print('i can\\'t believe it')"
   ]
  },
  {
   "cell_type": "code",
   "execution_count": null,
   "metadata": {
    "collapsed": true
   },
   "outputs": [],
   "source": []
  }
 ],
 "metadata": {
  "kernelspec": {
   "display_name": "Python 3",
   "language": "python",
   "name": "python3"
  },
  "language_info": {
   "codemirror_mode": {
    "name": "ipython",
    "version": 3
   },
   "file_extension": ".py",
   "mimetype": "text/x-python",
   "name": "python",
   "nbconvert_exporter": "python",
   "pygments_lexer": "ipython3",
   "version": "3.6.3"
  }
 },
 "nbformat": 4,
 "nbformat_minor": 2
}
